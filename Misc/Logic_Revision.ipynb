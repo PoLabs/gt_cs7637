{
 "cells": [
  {
   "cell_type": "markdown",
   "metadata": {},
   "source": [
    "## Logic Exercises\n",
    "\n",
    "By [Parthiban Rajendran](https://parthi2929.github.io/)\n",
    "\n",
    "Latex shortcuts\n",
    "\n",
    "```\n",
    "$$\n",
    "\\require{cancel}\n",
    "\\newcommand{\\n}{\\neg}\n",
    "\\newcommand{\\v}{\\vee}\n",
    "\\newcommand{\\bv}{\\bigvee}\n",
    "\\newcommand{\\w}{\\wedge}\n",
    "\\newcommand{\\bw}{\\bigwedge}\n",
    "\\newcommand{\\i}{\\implies}\n",
    "\\newcommand{\\c}{\\cancel}\n",
    "$$\n",
    "```"
   ]
  },
  {
   "cell_type": "markdown",
   "metadata": {},
   "source": [
    "$$\n",
    "\\require{cancel}\n",
    "\\newcommand{\\n}{\\neg}\n",
    "\\newcommand{\\v}{\\vee}\n",
    "\\newcommand{\\bv}{\\bigvee}\n",
    "\\newcommand{\\w}{\\wedge}\n",
    "\\newcommand{\\bw}{\\bigwedge}\n",
    "\\newcommand{\\i}{\\implies}\n",
    "\\newcommand{\\c}{\\cancel}\n",
    "$$"
   ]
  },
  {
   "cell_type": "markdown",
   "metadata": {},
   "source": [
    "### RTP Example 1\n",
    "\n",
    "[ref](http://www.cs.nott.ac.uk/~pszrq/files/10IAIresolution.pdf)\n",
    "\n",
    "S1: asleep => fail  \n",
    "S2: asleep  \n",
    "S3: fail  \n",
    "\n",
    "Prove S3 by RTP. "
   ]
  },
  {
   "cell_type": "markdown",
   "metadata": {},
   "source": [
    "#### 1. Implication Elimination : Convert S1 to CNF\n",
    "\n",
    "$a \\i b$ can be converted to $\\n a \\bv b$\n",
    "\n",
    "So\n",
    "\n",
    "**S1**: $\\n$ asleep $\\bv$ fail \n",
    "\n",
    "#### 2. Is S1 a CNF? \n",
    "\n",
    "A CNF is AND of ORs. Or combination of disjunctive clauses. \n",
    "\n",
    "$\\n a$ is a literal. Thus $\\n a \\bv b$ is a disjunctive clause. A disjunctive clause is a CNF. \n",
    "\n",
    "#### 3. Introduce S3 as opposite\n",
    "\n",
    "We want to prove S3: fail, so make it as opposite. Thus we have now\n",
    "\n",
    "\n",
    "**S1:** $\\n$ asleep $\\bv$ fail  \n",
    "**S2:** asleep  \n",
    "**S3:** $\\n$ fail  \n",
    "\n",
    "Variabializing, \n",
    "\n",
    "**S1:** $\\n A \\bv B$  \n",
    "**S2:** $A$  \n",
    "**S3:** $\\n B$  \n",
    "\n",
    "#### 4. Resolve\n",
    "\n",
    "**S1:** $\\n A \\bv \\c{B}$  \n",
    "**S2:** $A$  \n",
    "**S3:** $\\n \\c{B}$  \n",
    "\n",
    "**S1:** $\\n \\c{A} \\bv \\c{B}$  \n",
    "**S2:** $\\c{A}$  \n",
    "**S3:** $\\n \\c{B}$  "
   ]
  },
  {
   "cell_type": "code",
   "execution_count": null,
   "metadata": {},
   "outputs": [],
   "source": []
  }
 ],
 "metadata": {
  "kernelspec": {
   "display_name": "Python 3",
   "language": "python",
   "name": "python3"
  },
  "language_info": {
   "codemirror_mode": {
    "name": "ipython",
    "version": 3
   },
   "file_extension": ".py",
   "mimetype": "text/x-python",
   "name": "python",
   "nbconvert_exporter": "python",
   "pygments_lexer": "ipython3",
   "version": "3.6.7"
  }
 },
 "nbformat": 4,
 "nbformat_minor": 2
}
